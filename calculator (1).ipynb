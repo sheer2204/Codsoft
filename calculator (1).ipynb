{
 "cells": [
  {
   "cell_type": "code",
   "execution_count": 25,
   "id": "b057b74b-b589-4372-9362-e5fff43d4cdd",
   "metadata": {},
   "outputs": [],
   "source": [
    "import tkinter as tk\n",
    "\n",
    "def button_click(number):\n",
    "    current = entry.get()\n",
    "    entry.delete(0, tk.END)\n",
    "    entry.insert(0, current + str(number))\n",
    "\n",
    "def button_clear():\n",
    "    entry.delete(0, tk.END)\n",
    "\n",
    "def button_equal():\n",
    "    current = entry.get()\n",
    "    try:\n",
    "        result = eval(current)\n",
    "        entry.delete(0, tk.END)\n",
    "        entry.insert(0, result)\n",
    "    except Exception as e:\n",
    "        entry.delete(0, tk.END)\n",
    "        entry.insert(0, \"Error\")"
   ]
  },
  {
   "cell_type": "code",
   "execution_count": 26,
   "id": "090061f9-e7a8-47dc-8be7-8d1d0758de08",
   "metadata": {},
   "outputs": [
    {
     "data": {
      "text/plain": [
       "''"
      ]
     },
     "execution_count": 26,
     "metadata": {},
     "output_type": "execute_result"
    }
   ],
   "source": [
    "root = tk.Tk()\n",
    "root.title(\"Calculator\")"
   ]
  },
  {
   "cell_type": "code",
   "execution_count": 28,
   "id": "0bb1974d-8c46-4998-a5fe-9c0f96e77193",
   "metadata": {},
   "outputs": [],
   "source": [
    "entry = tk.Entry(root, width=45, borderwidth=5)\n",
    "entry.grid(row=0, column=0, columnspan=4)"
   ]
  },
  {
   "cell_type": "code",
   "execution_count": 29,
   "id": "09f02ca2-423a-422c-ace5-5873c9b62e99",
   "metadata": {},
   "outputs": [],
   "source": [
    "button = [\n",
    "    '7', '8', '9', '/',\n",
    "    '4', '5', '6', '*',\n",
    "    '1', '2', '3', '-',\n",
    "    '0', '.', '=', '+'\n",
    "]"
   ]
  },
  {
   "cell_type": "code",
   "execution_count": 30,
   "id": "deba6345-8979-4e3b-a17f-5c67addce4a0",
   "metadata": {},
   "outputs": [],
   "source": [
    "row_val = 1\n",
    "col_val = 0\n",
    "for button in buttons:\n",
    "    if button == '=':\n",
    "        tk.Button(root, text=button, padx=20, pady=20, command=button_equal).grid(row=row_val, column=col_val)\n",
    "    else:\n",
    "        tk.Button(root, text=button, padx=20, pady=20, command=lambda b=button: button_click(b)).grid(row=row_val, column=col_val)\n",
    "    col_val += 1\n",
    "    if col_val > 3:\n",
    "        col_val = 0\n",
    "        row_val += 1"
   ]
  },
  {
   "cell_type": "code",
   "execution_count": 31,
   "id": "9690597f-bde4-435e-979a-803fa434ffee",
   "metadata": {},
   "outputs": [],
   "source": [
    "clear_button = tk.Button(root, text=\"C\", padx=20, pady=20, command=button_clear)\n",
    "clear_button.grid(row=row_val, column=col_val)"
   ]
  },
  {
   "cell_type": "code",
   "execution_count": 32,
   "id": "be610a4a-4915-4ae2-a6fd-fe93a59c6af8",
   "metadata": {},
   "outputs": [],
   "source": [
    "root.mainloop()"
   ]
  }
 ],
 "metadata": {
  "kernelspec": {
   "display_name": "Python 3 (ipykernel)",
   "language": "python",
   "name": "python3"
  },
  "language_info": {
   "codemirror_mode": {
    "name": "ipython",
    "version": 3
   },
   "file_extension": ".py",
   "mimetype": "text/x-python",
   "name": "python",
   "nbconvert_exporter": "python",
   "pygments_lexer": "ipython3",
   "version": "3.12.4"
  }
 },
 "nbformat": 4,
 "nbformat_minor": 5
}
