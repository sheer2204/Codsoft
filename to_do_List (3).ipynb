{
 "cells": [
  {
   "cell_type": "code",
   "execution_count": 4,
   "id": "baf274db-5162-4045-b4fd-04c0a548026d",
   "metadata": {},
   "outputs": [],
   "source": [
    "import tkinter as tk\n",
    "\n",
    "def add_task():\n",
    "    task=task_entry.get()\n",
    "    if task:\n",
    "        task_listbox.insert(tk.END,task)\n",
    "        task_entry.delete(0,tk.END)\n",
    "\n",
    "def remove_task():\n",
    "    selected_task_index = task_listbox.curselection()\n",
    "    if selected_task_index:\n",
    "        task_listbox.delete(selected_task_index)\n",
    "\n",
    "root=tk.Tk()\n",
    "root.title(\"To Do List\")\n",
    "root.geometry(\"500x750+400+100\")\n",
    "\n",
    "task_listbox=tk.Listbox(root)\n",
    "task_listbox.pack(pady=10)\n",
    "\n",
    "task_entry=tk.Entry(root)\n",
    "task_entry.pack(pady=10)\n",
    "\n",
    "add_button = tk.Button(root, text=\"Add Task\", command=add_task)\n",
    "remove_button = tk.Button(root, text=\"Remove Task\", command=remove_task)\n",
    "\n",
    "add_button.pack()\n",
    "remove_button.pack()\n",
    "\n",
    "root.mainloop()"
   ]
  }
 ],
 "metadata": {
  "kernelspec": {
   "display_name": "Python 3 (ipykernel)",
   "language": "python",
   "name": "python3"
  },
  "language_info": {
   "codemirror_mode": {
    "name": "ipython",
    "version": 3
   },
   "file_extension": ".py",
   "mimetype": "text/x-python",
   "name": "python",
   "nbconvert_exporter": "python",
   "pygments_lexer": "ipython3",
   "version": "3.12.4"
  }
 },
 "nbformat": 4,
 "nbformat_minor": 5
}
