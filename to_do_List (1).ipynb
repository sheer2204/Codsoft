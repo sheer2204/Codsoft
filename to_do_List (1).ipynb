{
 "cells": [
  {
   "cell_type": "code",
   "execution_count": 1,
   "id": "02c41f99-ab2f-45dc-a8cc-a27870962382",
   "metadata": {},
   "outputs": [],
   "source": [
    "import tkinter as tk\n",
    "\n",
    "def add_task():\n",
    "    task=task_entry.get()\n",
    "    if task:\n",
    "        task_listbox.insert(tk.END,task)\n",
    "        task_entry.delete(0,tk.END)\n",
    "\n",
    "def remove_task():\n",
    "    selected_task_index = task_listbox.curselection()\n",
    "    if selected_task_index:\n",
    "        task_listbox.delete(selected_task_index)"
   ]
  },
  {
   "cell_type": "code",
   "execution_count": 3,
   "id": "cbb3de6c-511c-4314-b1d1-f08a09fbc7cc",
   "metadata": {},
   "outputs": [
    {
     "data": {
      "text/plain": [
       "''"
      ]
     },
     "execution_count": 3,
     "metadata": {},
     "output_type": "execute_result"
    }
   ],
   "source": [
    "root=tk.Tk()\n",
    "root.title(\"To Do List\")\n",
    "root.geometry(\"500x750+400+100\")"
   ]
  },
  {
   "cell_type": "code",
   "execution_count": 4,
   "id": "2fcc7fc6-8a6d-4553-b8d7-45614f803f52",
   "metadata": {},
   "outputs": [],
   "source": [
    "task_listbox=tk.Listbox(root)\n",
    "task_listbox.pack(pady=10)"
   ]
  },
  {
   "cell_type": "code",
   "execution_count": 5,
   "id": "2d22af6e-94a8-4ef8-b347-b1696310bb6d",
   "metadata": {},
   "outputs": [],
   "source": [
    "task_entry=tk.Entry(root)\n",
    "task_entry.pack(pady=10)"
   ]
  },
  {
   "cell_type": "code",
   "execution_count": 6,
   "id": "3c1c4d97-6212-4175-b695-2a1ba25c05d1",
   "metadata": {},
   "outputs": [],
   "source": [
    "add_button = tk.Button(root, text=\"Add Task\", command=add_task)\n",
    "remove_button = tk.Button(root, text=\"Remove Task\", command=remove_task)"
   ]
  },
  {
   "cell_type": "code",
   "execution_count": 8,
   "id": "de90eb64-2a51-4a90-8adc-aea8e6e41b82",
   "metadata": {},
   "outputs": [],
   "source": [
    "add_button.pack()\n",
    "remove_button.pack()"
   ]
  },
  {
   "cell_type": "code",
   "execution_count": 9,
   "id": "2430f51d-ed91-4ce3-b832-5908c28ff217",
   "metadata": {},
   "outputs": [],
   "source": [
    "root.mainloop()"
   ]
  }
 ],
 "metadata": {
  "kernelspec": {
   "display_name": "Python 3 (ipykernel)",
   "language": "python",
   "name": "python3"
  },
  "language_info": {
   "codemirror_mode": {
    "name": "ipython",
    "version": 3
   },
   "file_extension": ".py",
   "mimetype": "text/x-python",
   "name": "python",
   "nbconvert_exporter": "python",
   "pygments_lexer": "ipython3",
   "version": "3.12.4"
  }
 },
 "nbformat": 4,
 "nbformat_minor": 5
}
